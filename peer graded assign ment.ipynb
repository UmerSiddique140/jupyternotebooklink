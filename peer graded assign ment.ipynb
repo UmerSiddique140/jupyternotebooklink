{
 "cells": [
  {
   "cell_type": "markdown",
   "id": "68863c76",
   "metadata": {},
   "source": [
    "# the title of the notebook is peer graded assignment"
   ]
  },
  {
   "cell_type": "code",
   "execution_count": null,
   "id": "3f39b3c8",
   "metadata": {},
   "outputs": [],
   "source": []
  },
  {
   "cell_type": "markdown",
   "id": "1b935e64",
   "metadata": {},
   "source": [
    "# Introduction \n",
    "this is for the peer graded assignment"
   ]
  },
  {
   "cell_type": "markdown",
   "id": "4c9ebb11",
   "metadata": {},
   "source": []
  },
  {
   "cell_type": "markdown",
   "id": "79e5ecc0",
   "metadata": {},
   "source": [
    "# Data science languages are python , R ,C++"
   ]
  },
  {
   "cell_type": "code",
   "execution_count": null,
   "id": "6bfffb11",
   "metadata": {},
   "outputs": [],
   "source": []
  },
  {
   "cell_type": "markdown",
   "id": "19660ee5",
   "metadata": {},
   "source": [
    "# data science libraries are pandas , sklearn, plotly, ggplot2"
   ]
  },
  {
   "cell_type": "code",
   "execution_count": null,
   "id": "65cd4a47",
   "metadata": {},
   "outputs": [],
   "source": []
  },
  {
   "cell_type": "markdown",
   "id": "cbf52d79",
   "metadata": {},
   "source": [
    "# data science tools are for data management , data integration , data tranformation ,data visualization, data modeling , deployment ,evaluation , code asset management , data asset management"
   ]
  },
  {
   "cell_type": "code",
   "execution_count": null,
   "id": "ede1e296",
   "metadata": {},
   "outputs": [],
   "source": []
  },
  {
   "cell_type": "markdown",
   "id": "7412a6ff",
   "metadata": {},
   "source": [
    "# arithmatic expression examples 2+3=5,5*7=35"
   ]
  },
  {
   "cell_type": "code",
   "execution_count": null,
   "id": "dd3943d7",
   "metadata": {},
   "outputs": [],
   "source": []
  },
  {
   "cell_type": "code",
   "execution_count": 2,
   "id": "35e3a99f",
   "metadata": {},
   "outputs": [
    {
     "name": "stdout",
     "output_type": "stream",
     "text": [
      "20\n"
     ]
    },
    {
     "data": {
      "text/plain": [
       "75"
      ]
     },
     "execution_count": 2,
     "metadata": {},
     "output_type": "execute_result"
    }
   ],
   "source": [
    "a=15\n",
    "b=5\n",
    "print(a+b)\n",
    "a*b"
   ]
  },
  {
   "cell_type": "code",
   "execution_count": null,
   "id": "9b9d4571",
   "metadata": {},
   "outputs": [],
   "source": []
  },
  {
   "cell_type": "code",
   "execution_count": 4,
   "id": "4bc8276b",
   "metadata": {},
   "outputs": [
    {
     "name": "stdout",
     "output_type": "stream",
     "text": [
      "15 minutes in hours 0.25\n"
     ]
    }
   ],
   "source": [
    "# minutes to hours\n",
    "a=15\n",
    "b=a/60\n",
    "print(\"15 minutes in hours\", b)"
   ]
  },
  {
   "cell_type": "code",
   "execution_count": null,
   "id": "64d90e5f",
   "metadata": {},
   "outputs": [],
   "source": []
  },
  {
   "cell_type": "markdown",
   "id": "b072028d",
   "metadata": {},
   "source": [
    "# objectives \n",
    "## the objectives are for learning purpose"
   ]
  },
  {
   "cell_type": "code",
   "execution_count": null,
   "id": "2ee834e8",
   "metadata": {},
   "outputs": [],
   "source": []
  },
  {
   "cell_type": "markdown",
   "id": "721d6358",
   "metadata": {},
   "source": [
    "# the name of the author is \"XYZ\""
   ]
  },
  {
   "cell_type": "code",
   "execution_count": null,
   "id": "f5f60cf6",
   "metadata": {},
   "outputs": [],
   "source": []
  },
  {
   "cell_type": "code",
   "execution_count": null,
   "id": "c477272c",
   "metadata": {},
   "outputs": [],
   "source": []
  }
 ],
 "metadata": {
  "kernelspec": {
   "display_name": "Python 3 (ipykernel)",
   "language": "python",
   "name": "python3"
  },
  "language_info": {
   "codemirror_mode": {
    "name": "ipython",
    "version": 3
   },
   "file_extension": ".py",
   "mimetype": "text/x-python",
   "name": "python",
   "nbconvert_exporter": "python",
   "pygments_lexer": "ipython3",
   "version": "3.9.13"
  }
 },
 "nbformat": 4,
 "nbformat_minor": 5
}
